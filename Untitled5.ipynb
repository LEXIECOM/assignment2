{
  "nbformat": 4,
  "nbformat_minor": 0,
  "metadata": {
    "colab": {
      "provenance": [],
      "authorship_tag": "ABX9TyNT7H7tTcbQe4iWLZjGxRHb",
      "include_colab_link": true
    },
    "kernelspec": {
      "name": "python3",
      "display_name": "Python 3"
    },
    "language_info": {
      "name": "python"
    }
  },
  "cells": [
    {
      "cell_type": "markdown",
      "metadata": {
        "id": "view-in-github",
        "colab_type": "text"
      },
      "source": [
        "<a href=\"https://colab.research.google.com/github/LEXIECOM/assignment2/blob/main/Untitled5.ipynb\" target=\"_parent\"><img src=\"https://colab.research.google.com/assets/colab-badge.svg\" alt=\"Open In Colab\"/></a>"
      ]
    },
    {
      "cell_type": "code",
      "execution_count": null,
      "metadata": {
        "id": "VwO_Ub2F2O6S"
      },
      "outputs": [],
      "source": []
    },
    {
      "cell_type": "markdown",
      "source": [],
      "metadata": {
        "id": "z4i_k_lB2VEc"
      }
    },
    {
      "cell_type": "code",
      "source": [
        "!pip install wget\n",
        "import os, warnings\n",
        "from tensorflow.keras.utils import image_dataset_from_directory\n",
        "import warnings\n",
        "warnings.filterwarnings(\"ignore\", category=FutureWarning)"
      ],
      "metadata": {
        "colab": {
          "base_uri": "https://localhost:8080/"
        },
        "id": "n8XrO2652WKm",
        "outputId": "b0919def-7072-4009-e758-417f43055ad1"
      },
      "execution_count": 16,
      "outputs": [
        {
          "output_type": "stream",
          "name": "stdout",
          "text": [
            "Requirement already satisfied: wget in /usr/local/lib/python3.10/dist-packages (3.2)\n"
          ]
        }
      ]
    },
    {
      "cell_type": "code",
      "source": [
        "import os\n",
        "import wget\n",
        "import zipfile\n",
        "\n",
        "def download_and_unzip_data(url, zip_name):\n",
        "    if not os.path.exists(zip_name):\n",
        "        wget.download(url, zip_name)\n",
        "\n",
        "    with zipfile.ZipFile(zip_name, 'r') as zip_ref:\n",
        "        zip_ref.extractall()\n",
        "\n",
        "# Example usage:\n",
        "url = \"https://jrssbcrsefilesnait.blob.core.windows.net/3950data1/vegetable_image_dataset.zip\"\n",
        "zip_name = \"train.zip\"\n",
        "download_and_unzip_data(url, zip_name)\n",
        "\n",
        "\n",
        "\n",
        "\n"
      ],
      "metadata": {
        "id": "NC48X1xp2ecM"
      },
      "execution_count": 18,
      "outputs": []
    },
    {
      "cell_type": "code",
      "source": [
        "from tensorflow.keras.utils import image_dataset_from_directory\n",
        "\n",
        "IMAGE_SIZE = (224, 224)\n",
        "train_dir = 'Vegetable Images/train'\n",
        "val_dir = 'Vegetable Images/validation'\n",
        "test_dir = 'Vegetable Images/test'\n",
        "batch_size = 16\n",
        "\n",
        "train_ds = image_dataset_from_directory(\n",
        "    train_dir,\n",
        "    label_mode='categorical',\n",
        "    image_size=IMAGE_SIZE,\n",
        "    batch_size=batch_size\n",
        ")\n",
        "\n",
        "val_ds = image_dataset_from_directory(\n",
        "    val_dir,\n",
        "    label_mode='categorical',\n",
        "    image_size=IMAGE_SIZE,\n",
        "    batch_size=batch_size\n",
        ")\n",
        "\n",
        "test_ds = image_dataset_from_directory(\n",
        "    test_dir,\n",
        "    label_mode='categorical',\n",
        "    image_size=IMAGE_SIZE,\n",
        "    batch_size=batch_size\n",
        ")\n"
      ],
      "metadata": {
        "colab": {
          "base_uri": "https://localhost:8080/"
        },
        "id": "v_fL5B93AhfP",
        "outputId": "09ac0d1b-7495-4470-88f7-9189c72fb0d5"
      },
      "execution_count": 19,
      "outputs": [
        {
          "output_type": "stream",
          "name": "stdout",
          "text": [
            "Found 15000 files belonging to 15 classes.\n",
            "Found 3000 files belonging to 15 classes.\n",
            "Found 3000 files belonging to 15 classes.\n"
          ]
        }
      ]
    },
    {
      "cell_type": "code",
      "source": [
        "import tensorflow as tf\n",
        "from tensorflow.keras import layers\n",
        "\n",
        "# Data augmentation and normalization\n",
        "data_augmentation = tf.keras.Sequential([\n",
        "    layers.experimental.preprocessing.RandomRotation(0.2),\n",
        "    layers.experimental.preprocessing.RandomZoom(0.2),\n",
        "    layers.experimental.preprocessing.Rescaling(1./255)\n",
        "])\n",
        "\n",
        "# Apply data augmentation to training dataset\n",
        "train_ds_augmented = train_ds.map(lambda x, y: (data_augmentation(x), y))\n"
      ],
      "metadata": {
        "id": "WUTtVNP3DUVi"
      },
      "execution_count": 20,
      "outputs": []
    },
    {
      "cell_type": "code",
      "source": [
        "# Define custom model\n",
        "model = tf.keras.Sequential([\n",
        "    layers.Conv2D(16, 3, padding='same', activation='relu', input_shape=(224, 224, 3)),\n",
        "    layers.MaxPooling2D(),\n",
        "    layers.Conv2D(32, 3, padding='same', activation='relu'),\n",
        "    layers.MaxPooling2D(),\n",
        "    layers.Conv2D(64, 3, padding='same', activation='relu'),\n",
        "    layers.MaxPooling2D(),\n",
        "    layers.Flatten(),\n",
        "    layers.Dense(128, activation='relu'),\n",
        "    layers.Dense(15, activation='softmax')\n",
        "])\n",
        "\n",
        "# Compile the model\n",
        "model.compile(optimizer='adam',\n",
        "              loss=tf.keras.losses.CategoricalCrossentropy(from_logits=True),\n",
        "              metrics=['accuracy'])\n",
        "\n",
        "# Train the model\n",
        "history = model.fit(train_ds_augmented, validation_data=val_ds, epochs=10)\n"
      ],
      "metadata": {
        "colab": {
          "base_uri": "https://localhost:8080/"
        },
        "id": "3To86ZnODkCk",
        "outputId": "f87e5100-2ab6-42c5-99a3-7b13754901ff"
      },
      "execution_count": 21,
      "outputs": [
        {
          "output_type": "stream",
          "name": "stdout",
          "text": [
            "Epoch 1/10\n"
          ]
        },
        {
          "output_type": "stream",
          "name": "stderr",
          "text": [
            "/usr/local/lib/python3.10/dist-packages/keras/src/backend.py:5575: UserWarning: \"`categorical_crossentropy` received `from_logits=True`, but the `output` argument was produced by a Softmax activation and thus does not represent logits. Was this intended?\n",
            "  output, from_logits = _get_logits(\n"
          ]
        },
        {
          "output_type": "stream",
          "name": "stdout",
          "text": [
            "938/938 [==============================] - 952s 1s/step - loss: 1.3107 - accuracy: 0.5672 - val_loss: 273.7949 - val_accuracy: 0.4810\n",
            "Epoch 2/10\n",
            "938/938 [==============================] - 904s 963ms/step - loss: 0.6298 - accuracy: 0.7985 - val_loss: 367.4073 - val_accuracy: 0.4707\n",
            "Epoch 3/10\n",
            "938/938 [==============================] - 874s 932ms/step - loss: 0.4106 - accuracy: 0.8703 - val_loss: 405.0765 - val_accuracy: 0.4930\n",
            "Epoch 4/10\n",
            "938/938 [==============================] - 907s 967ms/step - loss: 0.3303 - accuracy: 0.8966 - val_loss: 565.4374 - val_accuracy: 0.4797\n",
            "Epoch 5/10\n",
            "938/938 [==============================] - 911s 971ms/step - loss: 0.2550 - accuracy: 0.9196 - val_loss: 558.2131 - val_accuracy: 0.4727\n",
            "Epoch 6/10\n",
            "938/938 [==============================] - 881s 938ms/step - loss: 0.2244 - accuracy: 0.9312 - val_loss: 724.9532 - val_accuracy: 0.3647\n",
            "Epoch 7/10\n",
            "938/938 [==============================] - 907s 967ms/step - loss: 0.2138 - accuracy: 0.9335 - val_loss: 534.1691 - val_accuracy: 0.4787\n",
            "Epoch 8/10\n",
            "938/938 [==============================] - 924s 985ms/step - loss: 0.1715 - accuracy: 0.9491 - val_loss: 596.3884 - val_accuracy: 0.4140\n",
            "Epoch 9/10\n",
            "938/938 [==============================] - 921s 982ms/step - loss: 0.1555 - accuracy: 0.9505 - val_loss: 813.1964 - val_accuracy: 0.3593\n",
            "Epoch 10/10\n",
            "938/938 [==============================] - 914s 974ms/step - loss: 0.1513 - accuracy: 0.9536 - val_loss: 700.1948 - val_accuracy: 0.4460\n"
          ]
        }
      ]
    },
    {
      "cell_type": "code",
      "source": [
        "# Example of loading a pre-trained model (e.g., ResNet50) for transfer learning\n",
        "base_model = tf.keras.applications.ResNet50(input_shape=(224, 224, 3),\n",
        "                                               include_top=False,\n",
        "                                               weights='imagenet')\n",
        "\n",
        "# Freeze the pre-trained layers\n",
        "base_model.trainable = False\n",
        "\n",
        "# Add custom head\n",
        "global_average_layer = tf.keras.layers.GlobalAveragePooling2D()\n",
        "prediction_layer = tf.keras.layers.Dense(15, activation='softmax')\n",
        "\n",
        "# Build the model\n",
        "model = tf.keras.Sequential([\n",
        "  base_model,\n",
        "  global_average_layer,\n",
        "  prediction_layer\n",
        "])\n",
        "\n",
        "# Compile the model\n",
        "model.compile(optimizer='adam',\n",
        "              loss=tf.keras.losses.CategoricalCrossentropy(from_logits=True),\n",
        "              metrics=['accuracy'])\n",
        "\n",
        "# Train the model\n",
        "history = model.fit(train_ds, validation_data=val_ds, epochs=10)\n"
      ],
      "metadata": {
        "colab": {
          "base_uri": "https://localhost:8080/"
        },
        "id": "H2XfB10Rp6bh",
        "outputId": "800b7caa-5d40-4af4-b9ac-289659aec3d3"
      },
      "execution_count": null,
      "outputs": [
        {
          "output_type": "stream",
          "name": "stdout",
          "text": [
            "Downloading data from https://storage.googleapis.com/tensorflow/keras-applications/resnet/resnet50_weights_tf_dim_ordering_tf_kernels_notop.h5\n",
            "94765736/94765736 [==============================] - 0s 0us/step\n",
            "Epoch 1/10\n",
            "938/938 [==============================] - 3181s 3s/step - loss: 0.1134 - accuracy: 0.9737 - val_loss: 0.0118 - val_accuracy: 0.9987\n",
            "Epoch 2/10\n",
            "938/938 [==============================] - 3036s 3s/step - loss: 0.0077 - accuracy: 0.9991 - val_loss: 0.0059 - val_accuracy: 0.9983\n",
            "Epoch 3/10\n",
            "938/938 [==============================] - 3025s 3s/step - loss: 0.0022 - accuracy: 1.0000 - val_loss: 0.0043 - val_accuracy: 0.9987\n",
            "Epoch 4/10\n",
            "666/938 [====================>.........] - ETA: 12:16 - loss: 0.0011 - accuracy: 1.0000"
          ]
        }
      ]
    },
    {
      "cell_type": "code",
      "source": [
        "\n",
        "# Evaluate the model on the test dataset\n",
        "test_loss, test_accuracy = model.evaluate(test_ds)\n",
        "\n",
        "print(\"Test Loss:\", test_loss)\n",
        "print(\"Test Accuracy:\", test_accuracy)\n"
      ],
      "metadata": {
        "colab": {
          "base_uri": "https://localhost:8080/",
          "height": 211
        },
        "id": "4-ytQJJc4eQy",
        "outputId": "c5dce566-4e3c-481c-df54-1d7859d14f25"
      },
      "execution_count": 2,
      "outputs": [
        {
          "output_type": "error",
          "ename": "NameError",
          "evalue": "name 'model' is not defined",
          "traceback": [
            "\u001b[0;31m---------------------------------------------------------------------------\u001b[0m",
            "\u001b[0;31mNameError\u001b[0m                                 Traceback (most recent call last)",
            "\u001b[0;32m<ipython-input-2-18498768cb0e>\u001b[0m in \u001b[0;36m<cell line: 2>\u001b[0;34m()\u001b[0m\n\u001b[1;32m      1\u001b[0m \u001b[0;31m# Evaluate the model on the test dataset\u001b[0m\u001b[0;34m\u001b[0m\u001b[0;34m\u001b[0m\u001b[0m\n\u001b[0;32m----> 2\u001b[0;31m \u001b[0mtest_loss\u001b[0m\u001b[0;34m,\u001b[0m \u001b[0mtest_accuracy\u001b[0m \u001b[0;34m=\u001b[0m \u001b[0mmodel\u001b[0m\u001b[0;34m.\u001b[0m\u001b[0mevaluate\u001b[0m\u001b[0;34m(\u001b[0m\u001b[0mtest_ds\u001b[0m\u001b[0;34m)\u001b[0m\u001b[0;34m\u001b[0m\u001b[0;34m\u001b[0m\u001b[0m\n\u001b[0m\u001b[1;32m      3\u001b[0m \u001b[0;34m\u001b[0m\u001b[0m\n\u001b[1;32m      4\u001b[0m \u001b[0mprint\u001b[0m\u001b[0;34m(\u001b[0m\u001b[0;34m\"Test Loss:\"\u001b[0m\u001b[0;34m,\u001b[0m \u001b[0mtest_loss\u001b[0m\u001b[0;34m)\u001b[0m\u001b[0;34m\u001b[0m\u001b[0;34m\u001b[0m\u001b[0m\n\u001b[1;32m      5\u001b[0m \u001b[0mprint\u001b[0m\u001b[0;34m(\u001b[0m\u001b[0;34m\"Test Accuracy:\"\u001b[0m\u001b[0;34m,\u001b[0m \u001b[0mtest_accuracy\u001b[0m\u001b[0;34m)\u001b[0m\u001b[0;34m\u001b[0m\u001b[0;34m\u001b[0m\u001b[0m\n",
            "\u001b[0;31mNameError\u001b[0m: name 'model' is not defined"
          ]
        }
      ]
    }
  ]
}